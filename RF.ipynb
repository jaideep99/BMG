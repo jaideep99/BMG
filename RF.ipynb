{
  "nbformat": 4,
  "nbformat_minor": 0,
  "metadata": {
    "colab": {
      "name": "GlassComp.ipynb",
      "provenance": [],
      "collapsed_sections": []
    },
    "kernelspec": {
      "name": "python3",
      "display_name": "Python 3"
    }
  },
  "cells": [
    {
      "cell_type": "code",
      "metadata": {
        "id": "Es0qPbY8V4-S"
      },
      "source": [
        "#importing libs\n",
        "import numpy as np\n",
        "import pandas as pd\n",
        "import matplotlib.pyplot as plt\n",
        "import seaborn as sns\n",
        "from sklearn.preprocessing import StandardScaler"
      ],
      "execution_count": null,
      "outputs": []
    },
    {
      "cell_type": "code",
      "metadata": {
        "id": "Zo8I0z_ZWhkO",
        "colab": {
          "base_uri": "https://localhost:8080/"
        },
        "outputId": "f410ffe8-3a35-4cc3-9d5a-edd41d45eff2"
      },
      "source": [
        "train = pd.read_excel('train.xlsx')\n",
        "test = pd.read_excel('test.xlsx')\n",
        "train.drop('Dmax',axis=1,inplace=True)\n",
        "print(train.head())\n",
        "print(test.head())"
      ],
      "execution_count": null,
      "outputs": [
        {
          "output_type": "stream",
          "text": [
            "                       name     gamma     hmix      smix   d    e  dmax\n",
            "0           Mg61.5Cu29.5Gd9  0.058195  10.1150  0.875817  37 -131   4.0\n",
            "1  Fe64.8Co7.2B19.2Si4.8Nb4  0.056022  23.1904  1.061942  84  -18   2.0\n",
            "2           La62Al14Cu16Ag8  0.063004   8.4040  1.066909  80 -133   5.0\n",
            "3       Cu57.6Hf24Ti14.4Nb4  0.067794  17.4304  1.068076  71 -106   4.0\n",
            "4          La66Al14Cu10Ni10  0.063733   8.6860  1.010013  78 -123   1.5\n",
            "                   name     gamma    hmix      smix   d    e  dmax\n",
            "0  Fe48Cr15Mo14Er2C15B6  0.056747  33.887  1.443742  62  -26   8.0\n",
            "1           Zr50Cu43Ag7  0.061681  16.924  0.895629  72 -123   4.0\n",
            "2          Cu44Zr44Ag12  0.071586  16.360  0.976895  70 -123   4.0\n",
            "3       La65Al10Ag5Cu20  0.072973   8.350  0.981942  82 -150   5.0\n",
            "4           Pr68Cu25Al7  0.050581   8.716  0.794972  83 -165   1.5\n"
          ],
          "name": "stdout"
        }
      ]
    },
    {
      "cell_type": "code",
      "metadata": {
        "id": "J_jh_v-KfiAE",
        "colab": {
          "base_uri": "https://localhost:8080/"
        },
        "outputId": "069169b9-5f70-417f-a406-fe3707d30c5a"
      },
      "source": [
        "print(train.shape,test.shape)"
      ],
      "execution_count": null,
      "outputs": [
        {
          "output_type": "stream",
          "text": [
            "(287, 7) (31, 7)\n"
          ],
          "name": "stdout"
        }
      ]
    },
    {
      "cell_type": "code",
      "metadata": {
        "id": "3S2P9p8CWo88"
      },
      "source": [
        "data = train.append(test)\n",
        "features  = ['hmix','smix','d','e']\n",
        "label = 'dmax'\n",
        "data = data[features]\n",
        "x_train = train[features]\n",
        "x_test = test[features]\n",
        "y_train = train[label]\n",
        "y_test = test[label]\n",
        "scaler = StandardScaler()\n",
        "scaler.fit(data)\n",
        "\n",
        "x_train_scaled = scaler.transform(x_train)\n",
        "x_test_scaled = scaler.transform(x_test)\n",
        "\n"
      ],
      "execution_count": null,
      "outputs": []
    },
    {
      "cell_type": "code",
      "metadata": {
        "id": "1baOD5MVX4Fx"
      },
      "source": [
        "from sklearn.ensemble import RandomForestRegressor\n",
        "from sklearn.metrics import r2_score\n",
        "from sklearn.linear_model import LinearRegression"
      ],
      "execution_count": null,
      "outputs": []
    },
    {
      "cell_type": "code",
      "metadata": {
        "id": "r1tbW7ZMnqVY"
      },
      "source": [
        "def mse(test,act):\n",
        "  dum = act-test\n",
        "  dum = [x**2 for x in dum]\n",
        "  mse = sum(dum)/len(dum)\n",
        "\n",
        "  return mse"
      ],
      "execution_count": null,
      "outputs": []
    },
    {
      "cell_type": "code",
      "metadata": {
        "id": "fMxvOLg7c-Zi"
      },
      "source": [
        "for x,y in zip(predict,list(y_test.values)):\n",
        "  print(x,y)"
      ],
      "execution_count": null,
      "outputs": []
    },
    {
      "cell_type": "code",
      "metadata": {
        "id": "nPeoxgAmklKb"
      },
      "source": [
        "from sklearn.model_selection import GridSearchCV,RandomizedSearchCV"
      ],
      "execution_count": null,
      "outputs": []
    },
    {
      "cell_type": "code",
      "metadata": {
        "id": "8l8aBz_q4Rfy",
        "colab": {
          "base_uri": "https://localhost:8080/"
        },
        "outputId": "b948d3b1-93ea-451e-ae54-b378b3cf11ab"
      },
      "source": [
        "pip install hypopt"
      ],
      "execution_count": null,
      "outputs": [
        {
          "output_type": "stream",
          "text": [
            "Collecting hypopt\n",
            "  Downloading https://files.pythonhosted.org/packages/6e/8b/17f9022d94066ec29ab0008ed1ad247615153e5c633c2787255cfe2e95b8/hypopt-1.0.9-py2.py3-none-any.whl\n",
            "Requirement already satisfied: scikit-learn>=0.18 in /usr/local/lib/python3.6/dist-packages (from hypopt) (0.22.2.post1)\n",
            "Requirement already satisfied: numpy>=1.11.3 in /usr/local/lib/python3.6/dist-packages (from hypopt) (1.18.5)\n",
            "Requirement already satisfied: joblib>=0.11 in /usr/local/lib/python3.6/dist-packages (from scikit-learn>=0.18->hypopt) (0.17.0)\n",
            "Requirement already satisfied: scipy>=0.17.0 in /usr/local/lib/python3.6/dist-packages (from scikit-learn>=0.18->hypopt) (1.4.1)\n",
            "Installing collected packages: hypopt\n",
            "Successfully installed hypopt-1.0.9\n"
          ],
          "name": "stdout"
        }
      ]
    },
    {
      "cell_type": "code",
      "metadata": {
        "id": "7FQuxQZB4WIC"
      },
      "source": [
        "from hypopt import GridSearch"
      ],
      "execution_count": null,
      "outputs": []
    },
    {
      "cell_type": "code",
      "metadata": {
        "id": "mLvmuzPrdnZ9"
      },
      "source": [
        "n_estimators = [int(x) for x in range(10,50,2)]\n",
        "max_features = ['auto', 'sqrt']\n",
        "max_depth = [int(x) for x in range(5,25)]\n",
        "max_depth.append(None)\n",
        "\n",
        "random_grid = {'n_estimators': n_estimators,\n",
        "               'max_features': max_features,\n",
        "               'max_depth': max_depth,\n",
        "               'min_samples_leaf': [1,2,5], 'min_samples_split': [2,4,8]\n",
        "               }"
      ],
      "execution_count": null,
      "outputs": []
    },
    {
      "cell_type": "code",
      "metadata": {
        "id": "i68OjTl3YdXW",
        "colab": {
          "base_uri": "https://localhost:8080/"
        },
        "outputId": "393c8293-245c-4776-ddbd-371d79c5124d"
      },
      "source": [
        "gsc = GridSearch(model=RandomForestRegressor(),param_grid=random_grid,cv_folds=3)    \n",
        "model = gsc.fit(x_train_scaled,y_train,x_test_scaled,y_test)"
      ],
      "execution_count": null,
      "outputs": [
        {
          "output_type": "stream",
          "text": [
            "100%|██████████| 7560/7560 [05:13<00:00, 24.12it/s]\n"
          ],
          "name": "stderr"
        }
      ]
    },
    {
      "cell_type": "code",
      "metadata": {
        "id": "ZhXBL8XFIKkU",
        "colab": {
          "base_uri": "https://localhost:8080/"
        },
        "outputId": "2be936b7-f044-432c-a2ec-9d238a5da6bb"
      },
      "source": [
        "model.get_params()"
      ],
      "execution_count": null,
      "outputs": [
        {
          "output_type": "execute_result",
          "data": {
            "text/plain": [
              "{'bootstrap': True,\n",
              " 'ccp_alpha': 0.0,\n",
              " 'criterion': 'mse',\n",
              " 'max_depth': 11,\n",
              " 'max_features': 'sqrt',\n",
              " 'max_leaf_nodes': None,\n",
              " 'max_samples': None,\n",
              " 'min_impurity_decrease': 0.0,\n",
              " 'min_impurity_split': None,\n",
              " 'min_samples_leaf': 1,\n",
              " 'min_samples_split': 2,\n",
              " 'min_weight_fraction_leaf': 0.0,\n",
              " 'n_estimators': 16,\n",
              " 'n_jobs': None,\n",
              " 'oob_score': False,\n",
              " 'random_state': 0,\n",
              " 'verbose': 0,\n",
              " 'warm_start': False}"
            ]
          },
          "metadata": {
            "tags": []
          },
          "execution_count": 13
        }
      ]
    },
    {
      "cell_type": "code",
      "metadata": {
        "id": "UxY8AT-S9dj_",
        "colab": {
          "base_uri": "https://localhost:8080/"
        },
        "outputId": "a926fbfe-3737-4085-faab-3a92d94b74a3"
      },
      "source": [
        "print(gsc.score(x_test_scaled,y_test))\n",
        "print(gsc.score(x_train_scaled,y_train))"
      ],
      "execution_count": null,
      "outputs": [
        {
          "output_type": "stream",
          "text": [
            "0.7097523947197606\n",
            "0.8687237695472815\n"
          ],
          "name": "stdout"
        }
      ]
    },
    {
      "cell_type": "code",
      "metadata": {
        "colab": {
          "base_uri": "https://localhost:8080/"
        },
        "id": "NvJDw0BrcCw6",
        "outputId": "9c3b4d60-0df1-4cea-b624-d923a7c0ae03"
      },
      "source": [
        "train_pred = gsc.predict(x_train_scaled)\n",
        "test_pred = gsc.predict(x_test_scaled)\n",
        "print(mse(test_pred,y_test))\n",
        "print(mse(train_pred,y_train))"
      ],
      "execution_count": null,
      "outputs": [
        {
          "output_type": "stream",
          "text": [
            "5.120106689399852\n",
            "1.5934151357212105\n"
          ],
          "name": "stdout"
        }
      ]
    },
    {
      "cell_type": "code",
      "metadata": {
        "colab": {
          "base_uri": "https://localhost:8080/"
        },
        "id": "SUdH0ACsaXWc",
        "outputId": "21e81168-67e4-462d-c525-861a32aa63b3"
      },
      "source": [
        "pred = gsc.predict(x_test_scaled)\n",
        "print(pred)"
      ],
      "execution_count": null,
      "outputs": [
        {
          "output_type": "stream",
          "text": [
            "[ 9.4375      3.81419102  4.79056039  5.09517045  2.46875    11.82153799\n",
            "  3.28514194  4.578125    3.93008242  8.78125     2.86049107  2.50178571\n",
            "  2.09375     3.375       7.17329545  5.66776392  6.41181577  9.70833333\n",
            "  2.25        9.625       4.47383242  5.59375     2.28125     5.77844703\n",
            "  2.21875     2.50402462  7.72778799  5.11321023  5.640625    9.42612695\n",
            " 12.14208896]\n"
          ],
          "name": "stdout"
        }
      ]
    },
    {
      "cell_type": "code",
      "metadata": {
        "id": "F3KBqrA5YFzJ"
      },
      "source": [
        "print(predict)\n",
        "print(model.score(x_train_scaled,y_train))\n",
        "print(model.score(x_test_scaled,y_test))\n",
        "print(mse(predict,y_test))"
      ],
      "execution_count": null,
      "outputs": []
    },
    {
      "cell_type": "code",
      "metadata": {
        "id": "PCIwHenI_kdg"
      },
      "source": [
        "grid_result.get_params()"
      ],
      "execution_count": null,
      "outputs": []
    }
  ]
}